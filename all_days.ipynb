{
 "cells": [
  {
   "cell_type": "code",
   "execution_count": null,
   "metadata": {},
   "outputs": [],
   "source": [
    "import os\n",
    "import numpy as np\n"
   ]
  },
  {
   "cell_type": "markdown",
   "metadata": {},
   "source": [
    "# Day 15"
   ]
  },
  {
   "cell_type": "code",
   "execution_count": null,
   "metadata": {},
   "outputs": [],
   "source": [
    "class Node:\n",
    "    def __init__(self, x, y, type: str):\n",
    "        match type:\n",
    "            case \"#\":\n",
    "                self.type = \"wall\"\n",
    "\n",
    "            case \".\":\n",
    "                self.type = \"empty\"\n",
    "\n",
    "            case \"@\":\n",
    "                self.type = \"robot\"\n",
    "\n",
    "            case \"O\":\n",
    "                self.type = \"box\"\n",
    "\n",
    "        self.char = type\n",
    "        self.position = np.array([x, y])\n",
    "\n",
    "    def calc_gps(self):\n",
    "        return self.position[1] * 100 + self.position[0] if self.type == \"box\" else 0\n"
   ]
  },
  {
   "cell_type": "code",
   "execution_count": null,
   "metadata": {},
   "outputs": [],
   "source": [
    "small_input = \"\"\"\n",
    "########\n",
    "#..O.O.#\n",
    "##@.O..#\n",
    "#...O..#\n",
    "#.#.O..#\n",
    "#...O..#\n",
    "#......#\n",
    "########\n",
    "\n",
    "<^^>>>vv<v>>v<<\n",
    "\"\"\"\n"
   ]
  },
  {
   "cell_type": "code",
   "execution_count": null,
   "metadata": {},
   "outputs": [],
   "source": [
    "class Grid:\n",
    "    def __init__(self, input: str):\n",
    "        self.grid = []\n",
    "        self.robot = None\n",
    "        split = int(input.find(\"\\n\\n\"))\n",
    "        self.load(input[0:split])\n",
    "        self.instructions = []\n",
    "        self.load_instructions(input[split:])\n",
    "\n",
    "        self.state = \"running\"\n",
    "\n",
    "    def load_instructions(self, instructions: str):\n",
    "        for instruction in instructions:\n",
    "            self.instructions.append(instruction)\n",
    "\n",
    "    def load(self, input: str):\n",
    "        for y, line in enumerate(input.split(\"\\n\")):\n",
    "            self.grid.append([])\n",
    "            for x, char in enumerate(line):\n",
    "                self.grid[y].append(Node(x, y, char))\n",
    "                if char == \"@\":\n",
    "                    self.robot = self.grid[y][x]\n",
    "\n",
    "    def run(self):\n",
    "        while self.state == \"running\":\n",
    "            self.advance()\n",
    "            print(self)\n",
    "            print\n",
    "\n",
    "    def calc_gps(self):\n",
    "        gps = 0\n",
    "        for row in self.grid:\n",
    "            for node in row:\n",
    "                gps += node.calc_gps()\n",
    "        return gps\n",
    "\n",
    "    def advance(self):\n",
    "        if len(self.instructions) == 0:\n",
    "            self.state = \"halt\"\n",
    "            print(\"No more instructions\")\n",
    "            return\n",
    "        instruction = self.instructions.pop(0)\n",
    "        print(f\"Moving {instruction}\")\n",
    "        match instruction:\n",
    "            case \"<\":\n",
    "                self.move(-1, 0)\n",
    "            case \">\":\n",
    "                self.move(1, 0)\n",
    "            case \"^\":\n",
    "                self.move(0, -1)\n",
    "            case \"v\":\n",
    "                self.move(0, 1)\n",
    "\n",
    "    def swap(self, node1, node2):\n",
    "        node1.type, node2.type = node2.type, node1.type\n",
    "        node1.char, node2.char = node2.char, node1.char\n",
    "\n",
    "    def move(self, dx, dy):\n",
    "        new_position = self.robot.position + np.array([dx, dy])\n",
    "        curr_node = self.grid[self.robot.position[1]][self.robot.position[0]]\n",
    "        dest_node = self.grid[new_position[1]][new_position[0]]\n",
    "        match dest_node.type:\n",
    "            case \"empty\":\n",
    "                self.swap(curr_node, dest_node)\n",
    "                self.robot = dest_node\n",
    "            case \"wall\":\n",
    "                pass\n",
    "            case \"box\":\n",
    "                boxes = []\n",
    "                boxes.append(dest_node)\n",
    "                while True:\n",
    "                    new_position = new_position + np.array([dx, dy])\n",
    "                    next_node = self.grid[new_position[1]][new_position[0]]\n",
    "                    if next_node.type == \"box\":\n",
    "                        boxes.append(next_node)\n",
    "                    elif next_node.type == \"empty\":\n",
    "                        boxes.append(next_node)\n",
    "                        break\n",
    "                    else:\n",
    "                        return\n",
    "                boxes.reverse()\n",
    "                while len(boxes) > 1:\n",
    "                    box = boxes.pop()\n",
    "                    self.swap(box, curr_node)\n",
    "                self.robot = dest_node\n",
    "\n",
    "    def push(self, dx, dy):\n",
    "        pass\n",
    "\n",
    "    def __str__(self):\n",
    "        return \"\\n\".join([\"\".join([node.char for node in row]) for row in self.grid])\n"
   ]
  },
  {
   "cell_type": "code",
   "execution_count": null,
   "metadata": {},
   "outputs": [
    {
     "name": "stdout",
     "output_type": "stream",
     "text": [
      "\n",
      "##########\n",
      "#..O..O.O#\n",
      "#......O.#\n",
      "#.OO..O.O#\n",
      "#..O@..O.#\n",
      "#O#..O...#\n",
      "#O..O..O.#\n",
      "#.OO.O.OO#\n",
      "#....O...#\n",
      "##########\n"
     ]
    }
   ],
   "source": [
    "g = Grid(small_input)\n",
    "print(g)\n"
   ]
  },
  {
   "cell_type": "code",
   "execution_count": null,
   "metadata": {},
   "outputs": [
    {
     "name": "stdout",
     "output_type": "stream",
     "text": [
      "Moving \n",
      "\n",
      "\n",
      "##########\n",
      "#..O..O.O#\n",
      "#......O.#\n",
      "#.OO..O.O#\n",
      "#..O@..O.#\n",
      "#O#..O...#\n",
      "#O..O..O.#\n",
      "#.OO.O.OO#\n",
      "#....O...#\n",
      "##########\n",
      "No more instructions\n",
      "\n",
      "##########\n",
      "#..O..O.O#\n",
      "#......O.#\n",
      "#.OO..O.O#\n",
      "#..O@..O.#\n",
      "#O#..O...#\n",
      "#O..O..O.#\n",
      "#.OO.O.OO#\n",
      "#....O...#\n",
      "##########\n"
     ]
    }
   ],
   "source": [
    "g.run()\n"
   ]
  },
  {
   "cell_type": "code",
   "execution_count": 202,
   "metadata": {},
   "outputs": [
    {
     "data": {
      "text/plain": [
       "np.int64(11801)"
      ]
     },
     "execution_count": 202,
     "metadata": {},
     "output_type": "execute_result"
    }
   ],
   "source": [
    "g.calc_gps()\n"
   ]
  }
 ],
 "metadata": {
  "kernelspec": {
   "display_name": ".venv",
   "language": "python",
   "name": "python3"
  },
  "language_info": {
   "codemirror_mode": {
    "name": "ipython",
    "version": 3
   },
   "file_extension": ".py",
   "mimetype": "text/x-python",
   "name": "python",
   "nbconvert_exporter": "python",
   "pygments_lexer": "ipython3",
   "version": "3.12.3"
  }
 },
 "nbformat": 4,
 "nbformat_minor": 2
}
